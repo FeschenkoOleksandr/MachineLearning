{
  "nbformat": 4,
  "nbformat_minor": 0,
  "metadata": {
    "colab": {
      "provenance": [],
      "include_colab_link": true
    },
    "kernelspec": {
      "name": "python3",
      "display_name": "Python 3"
    },
    "language_info": {
      "name": "python"
    }
  },
  "cells": [
    {
      "cell_type": "markdown",
      "metadata": {
        "id": "view-in-github",
        "colab_type": "text"
      },
      "source": [
        "<a href=\"https://colab.research.google.com/github/FIOWB21/Machine-learning/blob/main/%D0%B7%D0%B0%D0%B2%D0%B4%D0%B0%D0%BD%D0%BD%D1%8F_3.ipynb\" target=\"_parent\"><img src=\"https://colab.research.google.com/assets/colab-badge.svg\" alt=\"Open In Colab\"/></a>"
      ]
    },
    {
      "cell_type": "code",
      "execution_count": null,
      "metadata": {
        "id": "bLD42tP0-MfJ"
      },
      "outputs": [],
      "source": [
        "import seaborn as sns\n",
        "from sklearn.model_selection import train_test_split\n",
        "from sklearn.linear_model import LinearRegression\n",
        "from sklearn.ensemble import RandomForestRegressor\n",
        "from sklearn.metrics import mean_squared_error, r2_score\n",
        "from sklearn.preprocessing import StandardScaler\n",
        "import pandas as pd\n"
      ]
    },
    {
      "cell_type": "code",
      "source": [
        "df = sns.load_dataset('tips')\n",
        "df.head()\n"
      ],
      "metadata": {
        "colab": {
          "base_uri": "https://localhost:8080/",
          "height": 206
        },
        "id": "0KvYSZmJ-Uj5",
        "outputId": "dddb573a-c07a-42c8-945f-76f41d20f9cd"
      },
      "execution_count": null,
      "outputs": [
        {
          "output_type": "execute_result",
          "data": {
            "text/plain": [
              "   total_bill   tip     sex smoker  day    time  size\n",
              "0       16.99  1.01  Female     No  Sun  Dinner     2\n",
              "1       10.34  1.66    Male     No  Sun  Dinner     3\n",
              "2       21.01  3.50    Male     No  Sun  Dinner     3\n",
              "3       23.68  3.31    Male     No  Sun  Dinner     2\n",
              "4       24.59  3.61  Female     No  Sun  Dinner     4"
            ],
            "text/html": [
              "\n",
              "  <div id=\"df-1deae8b4-8e24-429c-8e2d-73837771ef0e\" class=\"colab-df-container\">\n",
              "    <div>\n",
              "<style scoped>\n",
              "    .dataframe tbody tr th:only-of-type {\n",
              "        vertical-align: middle;\n",
              "    }\n",
              "\n",
              "    .dataframe tbody tr th {\n",
              "        vertical-align: top;\n",
              "    }\n",
              "\n",
              "    .dataframe thead th {\n",
              "        text-align: right;\n",
              "    }\n",
              "</style>\n",
              "<table border=\"1\" class=\"dataframe\">\n",
              "  <thead>\n",
              "    <tr style=\"text-align: right;\">\n",
              "      <th></th>\n",
              "      <th>total_bill</th>\n",
              "      <th>tip</th>\n",
              "      <th>sex</th>\n",
              "      <th>smoker</th>\n",
              "      <th>day</th>\n",
              "      <th>time</th>\n",
              "      <th>size</th>\n",
              "    </tr>\n",
              "  </thead>\n",
              "  <tbody>\n",
              "    <tr>\n",
              "      <th>0</th>\n",
              "      <td>16.99</td>\n",
              "      <td>1.01</td>\n",
              "      <td>Female</td>\n",
              "      <td>No</td>\n",
              "      <td>Sun</td>\n",
              "      <td>Dinner</td>\n",
              "      <td>2</td>\n",
              "    </tr>\n",
              "    <tr>\n",
              "      <th>1</th>\n",
              "      <td>10.34</td>\n",
              "      <td>1.66</td>\n",
              "      <td>Male</td>\n",
              "      <td>No</td>\n",
              "      <td>Sun</td>\n",
              "      <td>Dinner</td>\n",
              "      <td>3</td>\n",
              "    </tr>\n",
              "    <tr>\n",
              "      <th>2</th>\n",
              "      <td>21.01</td>\n",
              "      <td>3.50</td>\n",
              "      <td>Male</td>\n",
              "      <td>No</td>\n",
              "      <td>Sun</td>\n",
              "      <td>Dinner</td>\n",
              "      <td>3</td>\n",
              "    </tr>\n",
              "    <tr>\n",
              "      <th>3</th>\n",
              "      <td>23.68</td>\n",
              "      <td>3.31</td>\n",
              "      <td>Male</td>\n",
              "      <td>No</td>\n",
              "      <td>Sun</td>\n",
              "      <td>Dinner</td>\n",
              "      <td>2</td>\n",
              "    </tr>\n",
              "    <tr>\n",
              "      <th>4</th>\n",
              "      <td>24.59</td>\n",
              "      <td>3.61</td>\n",
              "      <td>Female</td>\n",
              "      <td>No</td>\n",
              "      <td>Sun</td>\n",
              "      <td>Dinner</td>\n",
              "      <td>4</td>\n",
              "    </tr>\n",
              "  </tbody>\n",
              "</table>\n",
              "</div>\n",
              "    <div class=\"colab-df-buttons\">\n",
              "\n",
              "  <div class=\"colab-df-container\">\n",
              "    <button class=\"colab-df-convert\" onclick=\"convertToInteractive('df-1deae8b4-8e24-429c-8e2d-73837771ef0e')\"\n",
              "            title=\"Convert this dataframe to an interactive table.\"\n",
              "            style=\"display:none;\">\n",
              "\n",
              "  <svg xmlns=\"http://www.w3.org/2000/svg\" height=\"24px\" viewBox=\"0 -960 960 960\">\n",
              "    <path d=\"M120-120v-720h720v720H120Zm60-500h600v-160H180v160Zm220 220h160v-160H400v160Zm0 220h160v-160H400v160ZM180-400h160v-160H180v160Zm440 0h160v-160H620v160ZM180-180h160v-160H180v160Zm440 0h160v-160H620v160Z\"/>\n",
              "  </svg>\n",
              "    </button>\n",
              "\n",
              "  <style>\n",
              "    .colab-df-container {\n",
              "      display:flex;\n",
              "      gap: 12px;\n",
              "    }\n",
              "\n",
              "    .colab-df-convert {\n",
              "      background-color: #E8F0FE;\n",
              "      border: none;\n",
              "      border-radius: 50%;\n",
              "      cursor: pointer;\n",
              "      display: none;\n",
              "      fill: #1967D2;\n",
              "      height: 32px;\n",
              "      padding: 0 0 0 0;\n",
              "      width: 32px;\n",
              "    }\n",
              "\n",
              "    .colab-df-convert:hover {\n",
              "      background-color: #E2EBFA;\n",
              "      box-shadow: 0px 1px 2px rgba(60, 64, 67, 0.3), 0px 1px 3px 1px rgba(60, 64, 67, 0.15);\n",
              "      fill: #174EA6;\n",
              "    }\n",
              "\n",
              "    .colab-df-buttons div {\n",
              "      margin-bottom: 4px;\n",
              "    }\n",
              "\n",
              "    [theme=dark] .colab-df-convert {\n",
              "      background-color: #3B4455;\n",
              "      fill: #D2E3FC;\n",
              "    }\n",
              "\n",
              "    [theme=dark] .colab-df-convert:hover {\n",
              "      background-color: #434B5C;\n",
              "      box-shadow: 0px 1px 3px 1px rgba(0, 0, 0, 0.15);\n",
              "      filter: drop-shadow(0px 1px 2px rgba(0, 0, 0, 0.3));\n",
              "      fill: #FFFFFF;\n",
              "    }\n",
              "  </style>\n",
              "\n",
              "    <script>\n",
              "      const buttonEl =\n",
              "        document.querySelector('#df-1deae8b4-8e24-429c-8e2d-73837771ef0e button.colab-df-convert');\n",
              "      buttonEl.style.display =\n",
              "        google.colab.kernel.accessAllowed ? 'block' : 'none';\n",
              "\n",
              "      async function convertToInteractive(key) {\n",
              "        const element = document.querySelector('#df-1deae8b4-8e24-429c-8e2d-73837771ef0e');\n",
              "        const dataTable =\n",
              "          await google.colab.kernel.invokeFunction('convertToInteractive',\n",
              "                                                    [key], {});\n",
              "        if (!dataTable) return;\n",
              "\n",
              "        const docLinkHtml = 'Like what you see? Visit the ' +\n",
              "          '<a target=\"_blank\" href=https://colab.research.google.com/notebooks/data_table.ipynb>data table notebook</a>'\n",
              "          + ' to learn more about interactive tables.';\n",
              "        element.innerHTML = '';\n",
              "        dataTable['output_type'] = 'display_data';\n",
              "        await google.colab.output.renderOutput(dataTable, element);\n",
              "        const docLink = document.createElement('div');\n",
              "        docLink.innerHTML = docLinkHtml;\n",
              "        element.appendChild(docLink);\n",
              "      }\n",
              "    </script>\n",
              "  </div>\n",
              "\n",
              "\n",
              "<div id=\"df-fb74276a-3d27-4d07-a67e-bd8b7e659291\">\n",
              "  <button class=\"colab-df-quickchart\" onclick=\"quickchart('df-fb74276a-3d27-4d07-a67e-bd8b7e659291')\"\n",
              "            title=\"Suggest charts\"\n",
              "            style=\"display:none;\">\n",
              "\n",
              "<svg xmlns=\"http://www.w3.org/2000/svg\" height=\"24px\"viewBox=\"0 0 24 24\"\n",
              "     width=\"24px\">\n",
              "    <g>\n",
              "        <path d=\"M19 3H5c-1.1 0-2 .9-2 2v14c0 1.1.9 2 2 2h14c1.1 0 2-.9 2-2V5c0-1.1-.9-2-2-2zM9 17H7v-7h2v7zm4 0h-2V7h2v10zm4 0h-2v-4h2v4z\"/>\n",
              "    </g>\n",
              "</svg>\n",
              "  </button>\n",
              "\n",
              "<style>\n",
              "  .colab-df-quickchart {\n",
              "      --bg-color: #E8F0FE;\n",
              "      --fill-color: #1967D2;\n",
              "      --hover-bg-color: #E2EBFA;\n",
              "      --hover-fill-color: #174EA6;\n",
              "      --disabled-fill-color: #AAA;\n",
              "      --disabled-bg-color: #DDD;\n",
              "  }\n",
              "\n",
              "  [theme=dark] .colab-df-quickchart {\n",
              "      --bg-color: #3B4455;\n",
              "      --fill-color: #D2E3FC;\n",
              "      --hover-bg-color: #434B5C;\n",
              "      --hover-fill-color: #FFFFFF;\n",
              "      --disabled-bg-color: #3B4455;\n",
              "      --disabled-fill-color: #666;\n",
              "  }\n",
              "\n",
              "  .colab-df-quickchart {\n",
              "    background-color: var(--bg-color);\n",
              "    border: none;\n",
              "    border-radius: 50%;\n",
              "    cursor: pointer;\n",
              "    display: none;\n",
              "    fill: var(--fill-color);\n",
              "    height: 32px;\n",
              "    padding: 0;\n",
              "    width: 32px;\n",
              "  }\n",
              "\n",
              "  .colab-df-quickchart:hover {\n",
              "    background-color: var(--hover-bg-color);\n",
              "    box-shadow: 0 1px 2px rgba(60, 64, 67, 0.3), 0 1px 3px 1px rgba(60, 64, 67, 0.15);\n",
              "    fill: var(--button-hover-fill-color);\n",
              "  }\n",
              "\n",
              "  .colab-df-quickchart-complete:disabled,\n",
              "  .colab-df-quickchart-complete:disabled:hover {\n",
              "    background-color: var(--disabled-bg-color);\n",
              "    fill: var(--disabled-fill-color);\n",
              "    box-shadow: none;\n",
              "  }\n",
              "\n",
              "  .colab-df-spinner {\n",
              "    border: 2px solid var(--fill-color);\n",
              "    border-color: transparent;\n",
              "    border-bottom-color: var(--fill-color);\n",
              "    animation:\n",
              "      spin 1s steps(1) infinite;\n",
              "  }\n",
              "\n",
              "  @keyframes spin {\n",
              "    0% {\n",
              "      border-color: transparent;\n",
              "      border-bottom-color: var(--fill-color);\n",
              "      border-left-color: var(--fill-color);\n",
              "    }\n",
              "    20% {\n",
              "      border-color: transparent;\n",
              "      border-left-color: var(--fill-color);\n",
              "      border-top-color: var(--fill-color);\n",
              "    }\n",
              "    30% {\n",
              "      border-color: transparent;\n",
              "      border-left-color: var(--fill-color);\n",
              "      border-top-color: var(--fill-color);\n",
              "      border-right-color: var(--fill-color);\n",
              "    }\n",
              "    40% {\n",
              "      border-color: transparent;\n",
              "      border-right-color: var(--fill-color);\n",
              "      border-top-color: var(--fill-color);\n",
              "    }\n",
              "    60% {\n",
              "      border-color: transparent;\n",
              "      border-right-color: var(--fill-color);\n",
              "    }\n",
              "    80% {\n",
              "      border-color: transparent;\n",
              "      border-right-color: var(--fill-color);\n",
              "      border-bottom-color: var(--fill-color);\n",
              "    }\n",
              "    90% {\n",
              "      border-color: transparent;\n",
              "      border-bottom-color: var(--fill-color);\n",
              "    }\n",
              "  }\n",
              "</style>\n",
              "\n",
              "  <script>\n",
              "    async function quickchart(key) {\n",
              "      const quickchartButtonEl =\n",
              "        document.querySelector('#' + key + ' button');\n",
              "      quickchartButtonEl.disabled = true;  // To prevent multiple clicks.\n",
              "      quickchartButtonEl.classList.add('colab-df-spinner');\n",
              "      try {\n",
              "        const charts = await google.colab.kernel.invokeFunction(\n",
              "            'suggestCharts', [key], {});\n",
              "      } catch (error) {\n",
              "        console.error('Error during call to suggestCharts:', error);\n",
              "      }\n",
              "      quickchartButtonEl.classList.remove('colab-df-spinner');\n",
              "      quickchartButtonEl.classList.add('colab-df-quickchart-complete');\n",
              "    }\n",
              "    (() => {\n",
              "      let quickchartButtonEl =\n",
              "        document.querySelector('#df-fb74276a-3d27-4d07-a67e-bd8b7e659291 button');\n",
              "      quickchartButtonEl.style.display =\n",
              "        google.colab.kernel.accessAllowed ? 'block' : 'none';\n",
              "    })();\n",
              "  </script>\n",
              "</div>\n",
              "\n",
              "    </div>\n",
              "  </div>\n"
            ],
            "application/vnd.google.colaboratory.intrinsic+json": {
              "type": "dataframe",
              "variable_name": "df",
              "summary": "{\n  \"name\": \"df\",\n  \"rows\": 244,\n  \"fields\": [\n    {\n      \"column\": \"total_bill\",\n      \"properties\": {\n        \"dtype\": \"number\",\n        \"std\": 8.902411954856856,\n        \"min\": 3.07,\n        \"max\": 50.81,\n        \"num_unique_values\": 229,\n        \"samples\": [\n          22.12,\n          20.23,\n          14.78\n        ],\n        \"semantic_type\": \"\",\n        \"description\": \"\"\n      }\n    },\n    {\n      \"column\": \"tip\",\n      \"properties\": {\n        \"dtype\": \"number\",\n        \"std\": 1.3836381890011822,\n        \"min\": 1.0,\n        \"max\": 10.0,\n        \"num_unique_values\": 123,\n        \"samples\": [\n          3.35,\n          1.5,\n          6.73\n        ],\n        \"semantic_type\": \"\",\n        \"description\": \"\"\n      }\n    },\n    {\n      \"column\": \"sex\",\n      \"properties\": {\n        \"dtype\": \"category\",\n        \"num_unique_values\": 2,\n        \"samples\": [\n          \"Male\",\n          \"Female\"\n        ],\n        \"semantic_type\": \"\",\n        \"description\": \"\"\n      }\n    },\n    {\n      \"column\": \"smoker\",\n      \"properties\": {\n        \"dtype\": \"category\",\n        \"num_unique_values\": 2,\n        \"samples\": [\n          \"Yes\",\n          \"No\"\n        ],\n        \"semantic_type\": \"\",\n        \"description\": \"\"\n      }\n    },\n    {\n      \"column\": \"day\",\n      \"properties\": {\n        \"dtype\": \"category\",\n        \"num_unique_values\": 4,\n        \"samples\": [\n          \"Sat\",\n          \"Fri\"\n        ],\n        \"semantic_type\": \"\",\n        \"description\": \"\"\n      }\n    },\n    {\n      \"column\": \"time\",\n      \"properties\": {\n        \"dtype\": \"category\",\n        \"num_unique_values\": 2,\n        \"samples\": [\n          \"Lunch\",\n          \"Dinner\"\n        ],\n        \"semantic_type\": \"\",\n        \"description\": \"\"\n      }\n    },\n    {\n      \"column\": \"size\",\n      \"properties\": {\n        \"dtype\": \"number\",\n        \"std\": 0,\n        \"min\": 1,\n        \"max\": 6,\n        \"num_unique_values\": 6,\n        \"samples\": [\n          2,\n          3\n        ],\n        \"semantic_type\": \"\",\n        \"description\": \"\"\n      }\n    }\n  ]\n}"
            }
          },
          "metadata": {},
          "execution_count": 2
        }
      ]
    },
    {
      "cell_type": "code",
      "source": [],
      "metadata": {
        "id": "34188SpCe_kX"
      },
      "execution_count": null,
      "outputs": []
    },
    {
      "cell_type": "code",
      "source": [
        "# 4. Заміна бінарних ознак на числові\n",
        "df['sex'] = df['sex'].map({'Male': 1, 'Female': 0})\n",
        "df['smoker'] = df['smoker'].map({'Yes': 1, 'No': 0})\n",
        "df['day'] = df['day'].map({'Thur': 0, 'Fri': 1, 'Sat': 2, 'Sun': 3})\n",
        "df['time'] = df['time'].map({'Lunch': 0, 'Dinner': 1})\n",
        "\n",
        "# 1. Перевірка на пропущені значення\n",
        "missing_values = df.isnull().sum()\n",
        "\n",
        "# 3. Перевірка наявності дублікатів\n",
        "duplicates = df.duplicated().sum()\n",
        "\n",
        "\n",
        "print(\"Пропущені значення в кожній колонці:\\n\", missing_values)\n",
        "print(\"\\nКількість дублікатів:\", duplicates)\n"
      ],
      "metadata": {
        "colab": {
          "base_uri": "https://localhost:8080/"
        },
        "id": "eey2W9kX_S6i",
        "outputId": "22d6a9ee-8670-45f6-eabf-c45f53060e27"
      },
      "execution_count": null,
      "outputs": [
        {
          "output_type": "stream",
          "name": "stdout",
          "text": [
            "Пропущені значення в кожній колонці:\n",
            " total_bill    0\n",
            "tip           0\n",
            "sex           0\n",
            "smoker        0\n",
            "day           0\n",
            "time          0\n",
            "size          0\n",
            "dtype: int64\n",
            "\n",
            "Кількість дублікатів: 1\n"
          ]
        }
      ]
    },
    {
      "cell_type": "code",
      "source": [
        "# 3. Видалення дублікатів\n",
        "df = df.drop_duplicates()\n",
        "\n",
        "# 5. Виведення розміру таблиці та типу даних\n",
        "table_size = df.shape\n",
        "data_types = df.dtypes\n",
        "\n",
        "print(\"Розмір таблиці:\", table_size)\n",
        "print(\"\\nТипи даних:\\n\", data_types)"
      ],
      "metadata": {
        "colab": {
          "base_uri": "https://localhost:8080/"
        },
        "id": "13gYP4hW_7Gc",
        "outputId": "fef18baa-a50e-4c50-fc69-7df783ec8564"
      },
      "execution_count": null,
      "outputs": [
        {
          "output_type": "stream",
          "name": "stdout",
          "text": [
            "Розмір таблиці: (243, 7)\n",
            "\n",
            "Типи даних:\n",
            " total_bill     float64\n",
            "tip            float64\n",
            "sex           category\n",
            "smoker        category\n",
            "day           category\n",
            "time          category\n",
            "size             int64\n",
            "dtype: object\n"
          ]
        }
      ]
    },
    {
      "cell_type": "code",
      "source": [
        "\n",
        "print(df.head())"
      ],
      "metadata": {
        "colab": {
          "base_uri": "https://localhost:8080/"
        },
        "id": "iNKwahvRAEl_",
        "outputId": "c15e38e9-71e5-4c0d-f11d-e0e378a2a3ac"
      },
      "execution_count": null,
      "outputs": [
        {
          "output_type": "stream",
          "name": "stdout",
          "text": [
            "   total_bill   tip sex smoker day time  size\n",
            "0       16.99  1.01   0      0   3    1     2\n",
            "1       10.34  1.66   1      0   3    1     3\n",
            "2       21.01  3.50   1      0   3    1     3\n",
            "3       23.68  3.31   1      0   3    1     2\n",
            "4       24.59  3.61   0      0   3    1     4\n"
          ]
        }
      ]
    },
    {
      "cell_type": "code",
      "source": [
        "# Перетворення категоріальних змінних на числові значення\n",
        "df['sex'] = df['sex'].astype('category').cat.codes\n",
        "df['smoker'] = df['smoker'].astype('category').cat.codes\n",
        "df['day'] = df['day'].astype('category').cat.codes\n",
        "df['time'] = df['time'].astype('category').cat.codes\n",
        "\n",
        "# Перевірка результату\n",
        "print(df.dtypes)\n",
        "df.head()"
      ],
      "metadata": {
        "colab": {
          "base_uri": "https://localhost:8080/"
        },
        "id": "vmKhQG09CIQK",
        "outputId": "32ad7331-d343-4b9e-b67d-b63e319b6d74"
      },
      "execution_count": null,
      "outputs": [
        {
          "output_type": "stream",
          "name": "stdout",
          "text": [
            "total_bill    float64\n",
            "tip           float64\n",
            "sex              int8\n",
            "smoker           int8\n",
            "day              int8\n",
            "time             int8\n",
            "size            int64\n",
            "dtype: object\n",
            "     total_bill   tip  sex  smoker  day  time  size\n",
            "0         16.99  1.01    1       1    3     1     2\n",
            "1         10.34  1.66    0       1    3     1     3\n",
            "2         21.01  3.50    0       1    3     1     3\n",
            "3         23.68  3.31    0       1    3     1     2\n",
            "4         24.59  3.61    1       1    3     1     4\n",
            "..          ...   ...  ...     ...  ...   ...   ...\n",
            "239       29.03  5.92    0       1    2     1     3\n",
            "240       27.18  2.00    1       0    2     1     2\n",
            "241       22.67  2.00    0       0    2     1     2\n",
            "242       17.82  1.75    0       1    2     1     2\n",
            "243       18.78  3.00    1       1    0     1     2\n",
            "\n",
            "[243 rows x 7 columns]\n"
          ]
        }
      ]
    },
    {
      "cell_type": "code",
      "source": [
        "# 2. Перевірка на пропущені значення\n",
        "missing_values1 = df.isnull().sum()\n",
        "\n",
        "# 3. Перевірка наявності дублікатів\n",
        "duplicates1 = df.duplicated().sum()\n",
        "\n",
        "# Виведення результатів\n",
        "print(\"Пропущені значення в кожній колонці:\\n\", missing_values1)\n",
        "print(\"\\nКількість дублікатів:\", duplicates1)"
      ],
      "metadata": {
        "colab": {
          "base_uri": "https://localhost:8080/"
        },
        "id": "3z4ZxxQrFBfI",
        "outputId": "e9658183-24de-412a-f4ad-9ff67ec1e989"
      },
      "execution_count": null,
      "outputs": [
        {
          "output_type": "stream",
          "name": "stdout",
          "text": [
            "Пропущені значення в кожній колонці:\n",
            " total_bill    0\n",
            "tip           0\n",
            "sex           0\n",
            "smoker        0\n",
            "day           0\n",
            "time          0\n",
            "size          0\n",
            "dtype: int64\n",
            "\n",
            "Кількість дублікатів: 0\n"
          ]
        }
      ]
    },
    {
      "cell_type": "code",
      "source": [
        "X = df.drop(columns=['tip'])\n",
        "y = df['tip']\n",
        "\n",
        "# 7. Масштабування даних\n",
        "scaler = StandardScaler()\n",
        "X_scaled = scaler.fit_transform(X)\n",
        "\n",
        "# 8. Поділ даних на тренувальну та тестову вибірки\n",
        "X_train, X_test, y_train, y_test = train_test_split(X_scaled, y, test_size=0.2, random_state=42)\n",
        "\n",
        "# 9. Побудова лінійної регресії\n",
        "lin_reg = LinearRegression()\n",
        "lin_reg.fit(X_train, y_train)\n",
        "y_pred_lin = lin_reg.predict(X_test)\n",
        "\n",
        "# 9. Оцінка лінійної регресії\n",
        "mse_lin = mean_squared_error(y_test, y_pred_lin)\n",
        "r2_lin = r2_score(y_test, y_pred_lin)"
      ],
      "metadata": {
        "id": "ru3_jYes_JWH"
      },
      "execution_count": null,
      "outputs": []
    },
    {
      "cell_type": "code",
      "source": [
        "# 9. Побудова Random Forest регресії\n",
        "rf_reg = RandomForestRegressor(random_state=42, n_estimators=100)\n",
        "rf_reg.fit(X_train, y_train)\n",
        "y_pred_rf = rf_reg.predict(X_test)\n",
        "\n",
        "# 9. Оцінка Random Forest регресії\n",
        "mse_rf = mean_squared_error(y_test, y_pred_rf)\n",
        "r2_rf = r2_score(y_test, y_pred_rf)\n",
        "\n",
        "print(\"Лінійна регресія: MSE =\", mse_lin, \", R2 =\", r2_lin)\n",
        "print(\"Random Forest регресія: MSE =\", mse_rf, \", R2 =\", r2_rf)"
      ],
      "metadata": {
        "colab": {
          "base_uri": "https://localhost:8080/"
        },
        "id": "UnKFNa80-mO8",
        "outputId": "82750fdb-312b-429c-e351-274685de451e"
      },
      "execution_count": null,
      "outputs": [
        {
          "output_type": "stream",
          "name": "stdout",
          "text": [
            "Лінійна регресія: MSE = 1.169323788522593 , R2 = 0.5200756159874647\n",
            "Random Forest регресія: MSE = 1.2144788108163262 , R2 = 0.5015426856972387\n"
          ]
        }
      ]
    },
    {
      "cell_type": "code",
      "source": [
        "# Обчислення кореляційної матриці\n",
        "correlation_matrix = df.corr()\n",
        "\n",
        "# Отримання кореляцій з 'tip'\n",
        "tip_correlation = correlation_matrix['tip']\n",
        "\n",
        "# Сортування кореляцій за спаданням\n",
        "sorted_tip_correlation = tip_correlation.sort_values(ascending=False)\n",
        "\n",
        "# Виведення результатів\n",
        "print(sorted_tip_correlation)"
      ],
      "metadata": {
        "colab": {
          "base_uri": "https://localhost:8080/"
        },
        "id": "QPvMZDFmEKKd",
        "outputId": "a345161e-f77f-4a8a-fe22-2e8f3e63a0c9"
      },
      "execution_count": null,
      "outputs": [
        {
          "output_type": "stream",
          "name": "stdout",
          "text": [
            "tip           1.000000\n",
            "total_bill    0.674998\n",
            "size          0.488400\n",
            "day           0.131798\n",
            "time          0.117596\n",
            "smoker       -0.009763\n",
            "sex          -0.085274\n",
            "Name: tip, dtype: float64\n"
          ]
        }
      ]
    },
    {
      "cell_type": "markdown",
      "source": [],
      "metadata": {
        "id": "KoGW1syxEk2h"
      }
    },
    {
      "cell_type": "code",
      "source": [
        "import matplotlib.pyplot as plt\n",
        "# Візуалізація теплової карти кореляції\n",
        "plt.figure(figsize=(8, 6))\n",
        "sns.heatmap(correlation_matrix, annot=True, cmap='coolwarm', fmt='.2f', linewidths=0.5)\n",
        "plt.title('Correlation Matrix')\n",
        "plt.show()"
      ],
      "metadata": {
        "colab": {
          "base_uri": "https://localhost:8080/",
          "height": 545
        },
        "id": "4ifs4rUESDQN",
        "outputId": "0b6b135e-8a41-4f9d-f9ba-cc0be64a452f"
      },
      "execution_count": null,
      "outputs": [
        {
          "output_type": "display_data",
          "data": {
            "text/plain": [
              "<Figure size 800x600 with 2 Axes>"
            ],
            "image/png": "[encoded data removed]"
          },
          "metadata": {}
        }
      ]
    },
    {
      "cell_type": "code",
      "source": [
        "#Вибір ознак і цільової змінної\n",
        "# Вибір ознак і цільової змінної\n",
        "X = df[['total_bill', 'size', 'day', 'time']]  # Вибираємо тільки потрібні ознаки\n",
        "y = df['tip']\n",
        "\n",
        "#Масштабування даних\n",
        "scaler = StandardScaler()\n",
        "X_scaled = scaler.fit_transform(X)\n",
        "\n",
        "# Розділення на тренувальну та тестову вибірки з використанням масштабованих даних\n",
        "X_train, X_test, y_train, y_test = train_test_split(X_scaled, y, test_size=0.2, random_state=42)\n",
        "\n",
        "# Створення і навчання регресійної моделі\n",
        "model1 = LinearRegression()\n",
        "model1.fit(X_train, y_train)\n",
        "\n",
        "# Прогнозування на тестових даних\n",
        "y_pred = model1.predict(X_test)\n",
        "\n",
        "# Оцінка моделі\n",
        "mse1 = mean_squared_error(y_test, y_pred)\n",
        "r21 = r2_score(y_test, y_pred)\n",
        "\n",
        "# Виведення результатів\n",
        "print(f\"Mean Squared Error: {mse1}\")\n",
        "print(f\"R^2 Score: {r21}\")\n",
        "\n",
        "# Результати прогнозування\n",
        "results = pd.DataFrame({\n",
        "    'Actual': y_test,\n",
        "    'Predicted': y_pred\n",
        "})\n",
        "\n",
        "# Розташування результатів за спаданням прогнозів\n",
        "results = results.sort_values(by='Predicted', ascending=False)\n",
        "\n",
        "print(\"\\nSorted Results:\")\n",
        "print(results)"
      ],
      "metadata": {
        "colab": {
          "base_uri": "https://localhost:8080/"
        },
        "id": "7MWuM4cSEjQ4",
        "outputId": "87eb7444-5c64-4d33-a9a3-37b4100cb0e0"
      },
      "execution_count": null,
      "outputs": [
        {
          "output_type": "stream",
          "name": "stdout",
          "text": [
            "Mean Squared Error: 1.150752057079867\n",
            "R^2 Score: 0.5276979930058592\n",
            "\n",
            "Sorted Results:\n",
            "     Actual  Predicted\n",
            "170   10.00   6.105748\n",
            "112    4.00   4.834411\n",
            "180    3.68   4.493126\n",
            "175    3.11   4.318492\n",
            "237    1.17   4.311506\n",
            "167    4.50   4.199740\n",
            "210    2.00   4.035085\n",
            "155    5.14   4.014129\n",
            "239    5.92   3.932301\n",
            "216    3.00   3.844485\n",
            "96     4.00   3.757667\n",
            "73     5.00   3.558085\n",
            "113    2.55   3.425363\n",
            "241    2.00   3.297630\n",
            "15     3.92   3.188858\n",
            "33     2.45   3.100044\n",
            "185    5.00   3.100044\n",
            "19     3.35   3.096053\n",
            "60     3.21   3.060128\n",
            "24     3.18   3.013226\n",
            "38     2.31   2.900462\n",
            "45     3.00   2.860546\n",
            "108    3.76   2.855556\n",
            "25     2.34   2.812646\n",
            "164    3.00   2.782709\n",
            "152    2.74   2.757761\n",
            "18     3.50   2.728822\n",
            "66     2.47   2.676931\n",
            "93     4.30   2.663958\n",
            "9      3.23   2.510280\n",
            "127    2.00   2.484334\n",
            "137    2.00   2.447411\n",
            "150    2.50   2.439428\n",
            "228    2.72   2.360593\n",
            "161    2.50   2.298723\n",
            "233    1.47   2.110118\n",
            "117    1.50   2.098143\n",
            "75     1.25   2.084172\n",
            "196    2.00   2.067208\n",
            "16     1.67   2.066210\n",
            "10     1.71   2.060222\n",
            "82     1.83   2.040264\n",
            "30     1.45   1.988373\n",
            "6      2.00   1.910536\n",
            "126    1.48   1.885588\n",
            "218    1.44   1.807751\n",
            "195    1.44   1.789789\n",
            "111    1.00   1.758854\n",
            "67     1.00   1.341728\n"
          ]
        }
      ]
    },
    {
      "cell_type": "markdown",
      "source": [
        "Висновок:\n",
        "\n",
        "У ході аналізу даних було проведено підготовку датасету для подальшого моделювання. Було перевірено та усунено пропуски, видалено дублікати, а також проведено кодування бінарних ознак, що забезпечило коректність та повноту даних. Аналіз кореляції між фізіологічними змінними та прогресом діабету дозволив виявити найбільш впливові фактори, що можуть бути корисними для прогнозування.\n",
        "\n",
        "Моделювання за допомогою лінійної регресії та RandomForest регресії показало, що обидва підходи можуть бути ефективними для прогнозування прогресу діабету, з певною перевагою RandomForest у врахуванні нелінійних взаємозв’язків між змінними. Підсумовуючи, отримані результати показують, що правильна підготовка та аналіз даних є критичними етапами для побудови точних моделей прогнозування медичних показників, таких як прогрес діабету."
      ],
      "metadata": {
        "id": "aXQeWkCgLraU"
      }
    }
  ]
}